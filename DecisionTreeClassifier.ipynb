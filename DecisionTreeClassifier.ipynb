{
 "cells": [
  {
   "cell_type": "code",
   "execution_count": 2,
   "id": "cd393e1a",
   "metadata": {},
   "outputs": [],
   "source": [
    "import numpy as np\n",
    "import pandas as pd\n",
    "from sklearn.tree import DecisionTreeClassifier\n",
    "import matplotlib.pyplot as mat\n",
    "import seaborn as s"
   ]
  },
  {
   "cell_type": "code",
   "execution_count": 3,
   "id": "4a0940bf",
   "metadata": {},
   "outputs": [
    {
     "data": {
      "text/plain": [
       "Age              int64\n",
       "Sex             object\n",
       "BP              object\n",
       "Cholesterol     object\n",
       "Na_to_K        float64\n",
       "Drug            object\n",
       "dtype: object"
      ]
     },
     "execution_count": 3,
     "metadata": {},
     "output_type": "execute_result"
    }
   ],
   "source": [
    "my_data=pd.read_csv(\"drug200.csv\")\n",
    "my_data.dtypes\n",
    "a=my_data['Sex']\n",
    "my_data.dtypes"
   ]
  },
  {
   "cell_type": "code",
   "execution_count": 11,
   "id": "e933734a",
   "metadata": {},
   "outputs": [
    {
     "data": {
      "image/png": "[encoded data removed]",
      "text/plain": [
       "<Figure size 288x288 with 1 Axes>"
      ]
     },
     "metadata": {
      "needs_background": "light"
     },
     "output_type": "display_data"
    }
   ],
   "source": [
    "x=my_data[['Age','Sex','BP','Cholesterol','Na_to_K']].values\n",
    "a=my_data['Sex'].dropna().tolist()\n",
    "mat.figure(figsize=(4,4))\n",
    "\n",
    "mat.hist(a,histtype='barstacked',color='grey',bins=2,density=True)\n",
    "mat.xlabel('Male vs Female')\n",
    "mat.ylabel('Percentage of the Population')\n",
    "mat.grid(True)\n",
    "mat.show()\n",
    "\n",
    "\n"
   ]
  },
  {
   "cell_type": "code",
   "execution_count": 5,
   "id": "e2b8bdf0",
   "metadata": {},
   "outputs": [
    {
     "data": {
      "text/plain": [
       "Text(0.5, 1.0, 'male and female')"
      ]
     },
     "execution_count": 5,
     "metadata": {},
     "output_type": "execute_result"
    },
    {
     "data": {
      "image/png": "[encoded data removed]",
      "text/plain": [
       "<Figure size 432x288 with 1 Axes>"
      ]
     },
     "metadata": {
      "needs_background": "light"
     },
     "output_type": "display_data"
    }
   ],
   "source": [
    "s.countplot(y='Sex',data=my_data,color='grey').set_title('male and female')"
   ]
  },
  {
   "cell_type": "code",
   "execution_count": 12,
   "id": "fee60800",
   "metadata": {},
   "outputs": [
    {
     "data": {
      "text/plain": [
       "array([[23, 0, 0, 'HIGH', 25.355],\n",
       "       [47, 1, 1, 'HIGH', 13.093],\n",
       "       [47, 1, 1, 'HIGH', 10.114],\n",
       "       [28, 0, 2, 'HIGH', 7.798],\n",
       "       [61, 0, 1, 'HIGH', 18.043],\n",
       "       [22, 0, 2, 'HIGH', 8.607],\n",
       "       [49, 0, 2, 'HIGH', 16.275],\n",
       "       [41, 1, 1, 'HIGH', 11.037],\n",
       "       [60, 1, 2, 'HIGH', 15.171],\n",
       "       [43, 1, 1, 'NORMAL', 19.368],\n",
       "       [47, 0, 1, 'HIGH', 11.767],\n",
       "       [34, 0, 0, 'NORMAL', 19.199],\n",
       "       [43, 1, 1, 'HIGH', 15.376],\n",
       "       [74, 0, 1, 'HIGH', 20.942],\n",
       "       [50, 0, 2, 'HIGH', 12.703],\n",
       "       [16, 0, 0, 'NORMAL', 15.516],\n",
       "       [69, 1, 1, 'NORMAL', 11.455],\n",
       "       [43, 1, 0, 'HIGH', 13.972],\n",
       "       [23, 1, 1, 'HIGH', 7.298],\n",
       "       [32, 0, 0, 'NORMAL', 25.974],\n",
       "       [57, 1, 1, 'NORMAL', 19.128],\n",
       "       [63, 1, 2, 'HIGH', 25.917],\n",
       "       [47, 1, 1, 'NORMAL', 30.568],\n",
       "       [48, 0, 1, 'HIGH', 15.036],\n",
       "       [33, 0, 1, 'HIGH', 33.486],\n",
       "       [28, 0, 0, 'NORMAL', 18.809],\n",
       "       [31, 1, 0, 'HIGH', 30.366],\n",
       "       [49, 0, 2, 'NORMAL', 9.381],\n",
       "       [39, 0, 1, 'NORMAL', 22.697],\n",
       "       [45, 1, 1, 'HIGH', 17.951],\n",
       "       [18, 0, 2, 'NORMAL', 8.75],\n",
       "       [74, 1, 0, 'HIGH', 9.567],\n",
       "       [49, 1, 1, 'NORMAL', 11.014],\n",
       "       [65, 0, 0, 'NORMAL', 31.876],\n",
       "       [53, 1, 2, 'HIGH', 14.133],\n",
       "       [46, 1, 2, 'NORMAL', 7.285],\n",
       "       [32, 1, 0, 'NORMAL', 9.445],\n",
       "       [39, 1, 1, 'NORMAL', 13.938],\n",
       "       [39, 0, 2, 'NORMAL', 9.709],\n",
       "       [15, 1, 2, 'HIGH', 9.084],\n",
       "       [73, 0, 2, 'HIGH', 19.221],\n",
       "       [58, 0, 0, 'NORMAL', 14.239],\n",
       "       [50, 1, 2, 'NORMAL', 15.79],\n",
       "       [23, 1, 2, 'HIGH', 12.26],\n",
       "       [50, 0, 2, 'NORMAL', 12.295],\n",
       "       [66, 0, 2, 'NORMAL', 8.107],\n",
       "       [37, 0, 0, 'HIGH', 13.091],\n",
       "       [68, 1, 1, 'HIGH', 10.291],\n",
       "       [23, 1, 2, 'HIGH', 31.686],\n",
       "       [28, 0, 1, 'HIGH', 19.796],\n",
       "       [58, 0, 0, 'HIGH', 19.416],\n",
       "       [67, 1, 2, 'NORMAL', 10.898],\n",
       "       [62, 1, 1, 'NORMAL', 27.183],\n",
       "       [24, 0, 0, 'NORMAL', 18.457],\n",
       "       [68, 0, 0, 'NORMAL', 10.189],\n",
       "       [26, 0, 1, 'HIGH', 14.16],\n",
       "       [65, 1, 0, 'NORMAL', 11.34],\n",
       "       [40, 1, 0, 'HIGH', 27.826],\n",
       "       [60, 1, 2, 'NORMAL', 10.091],\n",
       "       [34, 1, 0, 'HIGH', 18.703],\n",
       "       [38, 0, 1, 'NORMAL', 29.875],\n",
       "       [24, 1, 0, 'NORMAL', 9.475],\n",
       "       [67, 1, 1, 'NORMAL', 20.693],\n",
       "       [45, 1, 1, 'NORMAL', 8.37],\n",
       "       [60, 0, 0, 'HIGH', 13.303],\n",
       "       [68, 0, 2, 'NORMAL', 27.05],\n",
       "       [29, 1, 0, 'HIGH', 12.856],\n",
       "       [17, 1, 2, 'NORMAL', 10.832],\n",
       "       [54, 1, 2, 'HIGH', 24.658],\n",
       "       [18, 0, 0, 'NORMAL', 24.276],\n",
       "       [70, 1, 0, 'HIGH', 13.967],\n",
       "       [28, 0, 2, 'HIGH', 19.675],\n",
       "       [24, 0, 2, 'HIGH', 10.605],\n",
       "       [41, 0, 2, 'NORMAL', 22.905],\n",
       "       [31, 1, 0, 'NORMAL', 17.069],\n",
       "       [26, 1, 1, 'NORMAL', 20.909],\n",
       "       [36, 0, 0, 'HIGH', 11.198],\n",
       "       [26, 0, 0, 'NORMAL', 19.161],\n",
       "       [19, 0, 0, 'HIGH', 13.313],\n",
       "       [32, 0, 1, 'NORMAL', 10.84],\n",
       "       [60, 1, 0, 'HIGH', 13.934],\n",
       "       [64, 1, 2, 'HIGH', 7.761],\n",
       "       [32, 0, 1, 'HIGH', 9.712],\n",
       "       [38, 0, 0, 'NORMAL', 11.326],\n",
       "       [47, 0, 1, 'HIGH', 10.067],\n",
       "       [59, 1, 0, 'HIGH', 13.935],\n",
       "       [51, 0, 2, 'HIGH', 13.597],\n",
       "       [69, 1, 1, 'HIGH', 15.478],\n",
       "       [37, 0, 0, 'NORMAL', 23.091],\n",
       "       [50, 0, 2, 'NORMAL', 17.211],\n",
       "       [62, 1, 2, 'HIGH', 16.594],\n",
       "       [41, 1, 0, 'NORMAL', 15.156],\n",
       "       [29, 0, 0, 'HIGH', 29.45],\n",
       "       [42, 0, 1, 'NORMAL', 29.271],\n",
       "       [56, 1, 1, 'HIGH', 15.015],\n",
       "       [36, 1, 1, 'NORMAL', 11.424],\n",
       "       [58, 0, 1, 'HIGH', 38.247],\n",
       "       [56, 0, 0, 'HIGH', 25.395],\n",
       "       [20, 1, 0, 'NORMAL', 35.639],\n",
       "       [15, 0, 0, 'NORMAL', 16.725],\n",
       "       [31, 1, 0, 'NORMAL', 11.871],\n",
       "       [45, 0, 0, 'HIGH', 12.854],\n",
       "       [28, 0, 1, 'HIGH', 13.127],\n",
       "       [56, 1, 2, 'HIGH', 8.966],\n",
       "       [22, 1, 0, 'NORMAL', 28.294],\n",
       "       [37, 1, 1, 'NORMAL', 8.968],\n",
       "       [22, 1, 2, 'HIGH', 11.953],\n",
       "       [42, 1, 1, 'HIGH', 20.013],\n",
       "       [72, 1, 0, 'NORMAL', 9.677],\n",
       "       [23, 1, 2, 'HIGH', 16.85],\n",
       "       [50, 1, 0, 'HIGH', 7.49],\n",
       "       [47, 0, 2, 'NORMAL', 6.683],\n",
       "       [35, 1, 1, 'NORMAL', 9.17],\n",
       "       [65, 0, 1, 'NORMAL', 13.769],\n",
       "       [20, 0, 2, 'NORMAL', 9.281],\n",
       "       [51, 1, 0, 'HIGH', 18.295],\n",
       "       [67, 1, 2, 'NORMAL', 9.514],\n",
       "       [40, 0, 2, 'HIGH', 10.103],\n",
       "       [32, 0, 0, 'NORMAL', 10.292],\n",
       "       [61, 0, 0, 'HIGH', 25.475],\n",
       "       [28, 1, 2, 'HIGH', 27.064],\n",
       "       [15, 1, 0, 'NORMAL', 17.206],\n",
       "       [34, 1, 2, 'HIGH', 22.456],\n",
       "       [36, 0, 2, 'HIGH', 16.753],\n",
       "       [53, 0, 0, 'NORMAL', 12.495],\n",
       "       [19, 0, 0, 'NORMAL', 25.969],\n",
       "       [66, 1, 0, 'HIGH', 16.347],\n",
       "       [35, 1, 2, 'NORMAL', 7.845],\n",
       "       [47, 1, 1, 'NORMAL', 33.542],\n",
       "       [32, 0, 2, 'HIGH', 7.477],\n",
       "       [70, 0, 2, 'HIGH', 20.489],\n",
       "       [52, 1, 1, 'NORMAL', 32.922],\n",
       "       [49, 1, 1, 'NORMAL', 13.598],\n",
       "       [24, 1, 2, 'HIGH', 25.786],\n",
       "       [42, 0, 0, 'HIGH', 21.036],\n",
       "       [74, 1, 1, 'NORMAL', 11.939],\n",
       "       [55, 0, 0, 'HIGH', 10.977],\n",
       "       [35, 0, 0, 'HIGH', 12.894],\n",
       "       [51, 1, 0, 'NORMAL', 11.343],\n",
       "       [69, 0, 2, 'HIGH', 10.065],\n",
       "       [49, 1, 0, 'NORMAL', 6.269],\n",
       "       [64, 0, 1, 'NORMAL', 25.741],\n",
       "       [60, 1, 0, 'NORMAL', 8.621],\n",
       "       [74, 1, 0, 'NORMAL', 15.436],\n",
       "       [39, 1, 0, 'HIGH', 9.664],\n",
       "       [61, 1, 2, 'HIGH', 9.443],\n",
       "       [37, 0, 1, 'NORMAL', 12.006],\n",
       "       [26, 0, 0, 'NORMAL', 12.307],\n",
       "       [61, 0, 1, 'NORMAL', 7.34],\n",
       "       [22, 1, 1, 'HIGH', 8.151],\n",
       "       [49, 1, 0, 'NORMAL', 8.7],\n",
       "       [68, 1, 0, 'HIGH', 11.009],\n",
       "       [55, 1, 2, 'NORMAL', 7.261],\n",
       "       [72, 0, 1, 'NORMAL', 14.642],\n",
       "       [37, 1, 1, 'NORMAL', 16.724],\n",
       "       [49, 1, 1, 'HIGH', 10.537],\n",
       "       [31, 1, 0, 'NORMAL', 11.227],\n",
       "       [53, 1, 1, 'HIGH', 22.963],\n",
       "       [59, 0, 1, 'HIGH', 10.444],\n",
       "       [34, 0, 1, 'NORMAL', 12.923],\n",
       "       [30, 0, 2, 'HIGH', 10.443],\n",
       "       [57, 0, 0, 'NORMAL', 9.945],\n",
       "       [43, 1, 2, 'NORMAL', 12.859],\n",
       "       [21, 0, 0, 'NORMAL', 28.632],\n",
       "       [16, 1, 0, 'NORMAL', 19.007],\n",
       "       [38, 1, 1, 'HIGH', 18.295],\n",
       "       [58, 0, 1, 'HIGH', 26.645],\n",
       "       [57, 0, 2, 'HIGH', 14.216],\n",
       "       [51, 0, 1, 'NORMAL', 23.003],\n",
       "       [20, 0, 0, 'HIGH', 11.262],\n",
       "       [28, 0, 2, 'HIGH', 12.879],\n",
       "       [45, 1, 1, 'NORMAL', 10.017],\n",
       "       [39, 0, 2, 'NORMAL', 17.225],\n",
       "       [41, 0, 1, 'NORMAL', 18.739],\n",
       "       [42, 1, 0, 'NORMAL', 12.766],\n",
       "       [73, 0, 0, 'HIGH', 18.348],\n",
       "       [48, 1, 0, 'NORMAL', 10.446],\n",
       "       [25, 1, 2, 'HIGH', 19.011],\n",
       "       [39, 1, 2, 'HIGH', 15.969],\n",
       "       [67, 0, 2, 'HIGH', 15.891],\n",
       "       [22, 0, 0, 'NORMAL', 22.818],\n",
       "       [59, 0, 2, 'HIGH', 13.884],\n",
       "       [20, 0, 1, 'NORMAL', 11.686],\n",
       "       [36, 0, 0, 'NORMAL', 15.49],\n",
       "       [18, 0, 0, 'HIGH', 37.188],\n",
       "       [57, 0, 2, 'NORMAL', 25.893],\n",
       "       [70, 1, 0, 'HIGH', 9.849],\n",
       "       [47, 1, 0, 'HIGH', 10.403],\n",
       "       [65, 1, 0, 'NORMAL', 34.997],\n",
       "       [64, 1, 0, 'NORMAL', 20.932],\n",
       "       [58, 1, 0, 'HIGH', 18.991],\n",
       "       [23, 1, 0, 'HIGH', 8.011],\n",
       "       [72, 1, 1, 'HIGH', 16.31],\n",
       "       [72, 1, 1, 'HIGH', 6.769],\n",
       "       [46, 0, 0, 'HIGH', 34.686],\n",
       "       [56, 0, 1, 'HIGH', 11.567],\n",
       "       [16, 1, 1, 'HIGH', 12.006],\n",
       "       [52, 1, 2, 'HIGH', 9.894],\n",
       "       [23, 1, 2, 'NORMAL', 14.02],\n",
       "       [40, 0, 1, 'NORMAL', 11.349]], dtype=object)"
      ]
     },
     "execution_count": 12,
     "metadata": {},
     "output_type": "execute_result"
    }
   ],
   "source": [
    "from sklearn import preprocessing\n",
    "le_sex=preprocessing.LabelEncoder()\n",
    "le_sex.fit(['F','M'])\n",
    "\n",
    "x[:,1]=le_sex.transform(x[:,1])\n",
    "\n",
    "le_bp=preprocessing.LabelEncoder()\n",
    "le_bp.fit(['LOW','NORMAL','HIGH'])\n",
    "x[:,2]=le_bp.transform(x[:,2])\n",
    "x"
   ]
  },
  {
   "cell_type": "code",
   "execution_count": 8,
   "id": "993d8cb8",
   "metadata": {},
   "outputs": [
    {
     "data": {
      "text/plain": [
       "array([[23, 0, 0, 0, 25.355],\n",
       "       [47, 1, 1, 0, 13.093],\n",
       "       [47, 1, 1, 0, 10.114],\n",
       "       [28, 0, 2, 0, 7.798],\n",
       "       [61, 0, 1, 0, 18.043],\n",
       "       [22, 0, 2, 0, 8.607],\n",
       "       [49, 0, 2, 0, 16.275],\n",
       "       [41, 1, 1, 0, 11.037],\n",
       "       [60, 1, 2, 0, 15.171],\n",
       "       [43, 1, 1, 1, 19.368],\n",
       "       [47, 0, 1, 0, 11.767],\n",
       "       [34, 0, 0, 1, 19.199],\n",
       "       [43, 1, 1, 0, 15.376],\n",
       "       [74, 0, 1, 0, 20.942],\n",
       "       [50, 0, 2, 0, 12.703],\n",
       "       [16, 0, 0, 1, 15.516],\n",
       "       [69, 1, 1, 1, 11.455],\n",
       "       [43, 1, 0, 0, 13.972],\n",
       "       [23, 1, 1, 0, 7.298],\n",
       "       [32, 0, 0, 1, 25.974],\n",
       "       [57, 1, 1, 1, 19.128],\n",
       "       [63, 1, 2, 0, 25.917],\n",
       "       [47, 1, 1, 1, 30.568],\n",
       "       [48, 0, 1, 0, 15.036],\n",
       "       [33, 0, 1, 0, 33.486],\n",
       "       [28, 0, 0, 1, 18.809],\n",
       "       [31, 1, 0, 0, 30.366],\n",
       "       [49, 0, 2, 1, 9.381],\n",
       "       [39, 0, 1, 1, 22.697],\n",
       "       [45, 1, 1, 0, 17.951],\n",
       "       [18, 0, 2, 1, 8.75],\n",
       "       [74, 1, 0, 0, 9.567],\n",
       "       [49, 1, 1, 1, 11.014],\n",
       "       [65, 0, 0, 1, 31.876],\n",
       "       [53, 1, 2, 0, 14.133],\n",
       "       [46, 1, 2, 1, 7.285],\n",
       "       [32, 1, 0, 1, 9.445],\n",
       "       [39, 1, 1, 1, 13.938],\n",
       "       [39, 0, 2, 1, 9.709],\n",
       "       [15, 1, 2, 0, 9.084],\n",
       "       [73, 0, 2, 0, 19.221],\n",
       "       [58, 0, 0, 1, 14.239],\n",
       "       [50, 1, 2, 1, 15.79],\n",
       "       [23, 1, 2, 0, 12.26],\n",
       "       [50, 0, 2, 1, 12.295],\n",
       "       [66, 0, 2, 1, 8.107],\n",
       "       [37, 0, 0, 0, 13.091],\n",
       "       [68, 1, 1, 0, 10.291],\n",
       "       [23, 1, 2, 0, 31.686],\n",
       "       [28, 0, 1, 0, 19.796],\n",
       "       [58, 0, 0, 0, 19.416],\n",
       "       [67, 1, 2, 1, 10.898],\n",
       "       [62, 1, 1, 1, 27.183],\n",
       "       [24, 0, 0, 1, 18.457],\n",
       "       [68, 0, 0, 1, 10.189],\n",
       "       [26, 0, 1, 0, 14.16],\n",
       "       [65, 1, 0, 1, 11.34],\n",
       "       [40, 1, 0, 0, 27.826],\n",
       "       [60, 1, 2, 1, 10.091],\n",
       "       [34, 1, 0, 0, 18.703],\n",
       "       [38, 0, 1, 1, 29.875],\n",
       "       [24, 1, 0, 1, 9.475],\n",
       "       [67, 1, 1, 1, 20.693],\n",
       "       [45, 1, 1, 1, 8.37],\n",
       "       [60, 0, 0, 0, 13.303],\n",
       "       [68, 0, 2, 1, 27.05],\n",
       "       [29, 1, 0, 0, 12.856],\n",
       "       [17, 1, 2, 1, 10.832],\n",
       "       [54, 1, 2, 0, 24.658],\n",
       "       [18, 0, 0, 1, 24.276],\n",
       "       [70, 1, 0, 0, 13.967],\n",
       "       [28, 0, 2, 0, 19.675],\n",
       "       [24, 0, 2, 0, 10.605],\n",
       "       [41, 0, 2, 1, 22.905],\n",
       "       [31, 1, 0, 1, 17.069],\n",
       "       [26, 1, 1, 1, 20.909],\n",
       "       [36, 0, 0, 0, 11.198],\n",
       "       [26, 0, 0, 1, 19.161],\n",
       "       [19, 0, 0, 0, 13.313],\n",
       "       [32, 0, 1, 1, 10.84],\n",
       "       [60, 1, 0, 0, 13.934],\n",
       "       [64, 1, 2, 0, 7.761],\n",
       "       [32, 0, 1, 0, 9.712],\n",
       "       [38, 0, 0, 1, 11.326],\n",
       "       [47, 0, 1, 0, 10.067],\n",
       "       [59, 1, 0, 0, 13.935],\n",
       "       [51, 0, 2, 0, 13.597],\n",
       "       [69, 1, 1, 0, 15.478],\n",
       "       [37, 0, 0, 1, 23.091],\n",
       "       [50, 0, 2, 1, 17.211],\n",
       "       [62, 1, 2, 0, 16.594],\n",
       "       [41, 1, 0, 1, 15.156],\n",
       "       [29, 0, 0, 0, 29.45],\n",
       "       [42, 0, 1, 1, 29.271],\n",
       "       [56, 1, 1, 0, 15.015],\n",
       "       [36, 1, 1, 1, 11.424],\n",
       "       [58, 0, 1, 0, 38.247],\n",
       "       [56, 0, 0, 0, 25.395],\n",
       "       [20, 1, 0, 1, 35.639],\n",
       "       [15, 0, 0, 1, 16.725],\n",
       "       [31, 1, 0, 1, 11.871],\n",
       "       [45, 0, 0, 0, 12.854],\n",
       "       [28, 0, 1, 0, 13.127],\n",
       "       [56, 1, 2, 0, 8.966],\n",
       "       [22, 1, 0, 1, 28.294],\n",
       "       [37, 1, 1, 1, 8.968],\n",
       "       [22, 1, 2, 0, 11.953],\n",
       "       [42, 1, 1, 0, 20.013],\n",
       "       [72, 1, 0, 1, 9.677],\n",
       "       [23, 1, 2, 0, 16.85],\n",
       "       [50, 1, 0, 0, 7.49],\n",
       "       [47, 0, 2, 1, 6.683],\n",
       "       [35, 1, 1, 1, 9.17],\n",
       "       [65, 0, 1, 1, 13.769],\n",
       "       [20, 0, 2, 1, 9.281],\n",
       "       [51, 1, 0, 0, 18.295],\n",
       "       [67, 1, 2, 1, 9.514],\n",
       "       [40, 0, 2, 0, 10.103],\n",
       "       [32, 0, 0, 1, 10.292],\n",
       "       [61, 0, 0, 0, 25.475],\n",
       "       [28, 1, 2, 0, 27.064],\n",
       "       [15, 1, 0, 1, 17.206],\n",
       "       [34, 1, 2, 0, 22.456],\n",
       "       [36, 0, 2, 0, 16.753],\n",
       "       [53, 0, 0, 1, 12.495],\n",
       "       [19, 0, 0, 1, 25.969],\n",
       "       [66, 1, 0, 0, 16.347],\n",
       "       [35, 1, 2, 1, 7.845],\n",
       "       [47, 1, 1, 1, 33.542],\n",
       "       [32, 0, 2, 0, 7.477],\n",
       "       [70, 0, 2, 0, 20.489],\n",
       "       [52, 1, 1, 1, 32.922],\n",
       "       [49, 1, 1, 1, 13.598],\n",
       "       [24, 1, 2, 0, 25.786],\n",
       "       [42, 0, 0, 0, 21.036],\n",
       "       [74, 1, 1, 1, 11.939],\n",
       "       [55, 0, 0, 0, 10.977],\n",
       "       [35, 0, 0, 0, 12.894],\n",
       "       [51, 1, 0, 1, 11.343],\n",
       "       [69, 0, 2, 0, 10.065],\n",
       "       [49, 1, 0, 1, 6.269],\n",
       "       [64, 0, 1, 1, 25.741],\n",
       "       [60, 1, 0, 1, 8.621],\n",
       "       [74, 1, 0, 1, 15.436],\n",
       "       [39, 1, 0, 0, 9.664],\n",
       "       [61, 1, 2, 0, 9.443],\n",
       "       [37, 0, 1, 1, 12.006],\n",
       "       [26, 0, 0, 1, 12.307],\n",
       "       [61, 0, 1, 1, 7.34],\n",
       "       [22, 1, 1, 0, 8.151],\n",
       "       [49, 1, 0, 1, 8.7],\n",
       "       [68, 1, 0, 0, 11.009],\n",
       "       [55, 1, 2, 1, 7.261],\n",
       "       [72, 0, 1, 1, 14.642],\n",
       "       [37, 1, 1, 1, 16.724],\n",
       "       [49, 1, 1, 0, 10.537],\n",
       "       [31, 1, 0, 1, 11.227],\n",
       "       [53, 1, 1, 0, 22.963],\n",
       "       [59, 0, 1, 0, 10.444],\n",
       "       [34, 0, 1, 1, 12.923],\n",
       "       [30, 0, 2, 0, 10.443],\n",
       "       [57, 0, 0, 1, 9.945],\n",
       "       [43, 1, 2, 1, 12.859],\n",
       "       [21, 0, 0, 1, 28.632],\n",
       "       [16, 1, 0, 1, 19.007],\n",
       "       [38, 1, 1, 0, 18.295],\n",
       "       [58, 0, 1, 0, 26.645],\n",
       "       [57, 0, 2, 0, 14.216],\n",
       "       [51, 0, 1, 1, 23.003],\n",
       "       [20, 0, 0, 0, 11.262],\n",
       "       [28, 0, 2, 0, 12.879],\n",
       "       [45, 1, 1, 1, 10.017],\n",
       "       [39, 0, 2, 1, 17.225],\n",
       "       [41, 0, 1, 1, 18.739],\n",
       "       [42, 1, 0, 1, 12.766],\n",
       "       [73, 0, 0, 0, 18.348],\n",
       "       [48, 1, 0, 1, 10.446],\n",
       "       [25, 1, 2, 0, 19.011],\n",
       "       [39, 1, 2, 0, 15.969],\n",
       "       [67, 0, 2, 0, 15.891],\n",
       "       [22, 0, 0, 1, 22.818],\n",
       "       [59, 0, 2, 0, 13.884],\n",
       "       [20, 0, 1, 1, 11.686],\n",
       "       [36, 0, 0, 1, 15.49],\n",
       "       [18, 0, 0, 0, 37.188],\n",
       "       [57, 0, 2, 1, 25.893],\n",
       "       [70, 1, 0, 0, 9.849],\n",
       "       [47, 1, 0, 0, 10.403],\n",
       "       [65, 1, 0, 1, 34.997],\n",
       "       [64, 1, 0, 1, 20.932],\n",
       "       [58, 1, 0, 0, 18.991],\n",
       "       [23, 1, 0, 0, 8.011],\n",
       "       [72, 1, 1, 0, 16.31],\n",
       "       [72, 1, 1, 0, 6.769],\n",
       "       [46, 0, 0, 0, 34.686],\n",
       "       [56, 0, 1, 0, 11.567],\n",
       "       [16, 1, 1, 0, 12.006],\n",
       "       [52, 1, 2, 0, 9.894],\n",
       "       [23, 1, 2, 1, 14.02],\n",
       "       [40, 0, 1, 1, 11.349]], dtype=object)"
      ]
     },
     "execution_count": 8,
     "metadata": {},
     "output_type": "execute_result"
    }
   ],
   "source": [
    "le_chol=preprocessing.LabelEncoder()\n",
    "le_chol.fit(['NORMAL','HIGH'])\n",
    "\n",
    "x[:,3]=le_chol.transform(x[:,3])\n",
    "x"
   ]
  },
  {
   "cell_type": "code",
   "execution_count": 13,
   "id": "825a8cdd",
   "metadata": {},
   "outputs": [
    {
     "name": "stdout",
     "output_type": "stream",
     "text": [
      "<class 'pandas.core.frame.DataFrame'>\n",
      "RangeIndex: 200 entries, 0 to 199\n",
      "Data columns (total 6 columns):\n",
      " #   Column       Non-Null Count  Dtype  \n",
      "---  ------       --------------  -----  \n",
      " 0   Age          200 non-null    int64  \n",
      " 1   Sex          200 non-null    object \n",
      " 2   BP           200 non-null    object \n",
      " 3   Cholesterol  200 non-null    object \n",
      " 4   Na_to_K      200 non-null    float64\n",
      " 5   Drug         200 non-null    object \n",
      "dtypes: float64(1), int64(1), object(4)\n",
      "memory usage: 9.5+ KB\n"
     ]
    }
   ],
   "source": [
    "y=my_data['Drug']\n",
    "my_data.info()\n",
    "\n"
   ]
  },
  {
   "cell_type": "code",
   "execution_count": 14,
   "id": "2aa4f715",
   "metadata": {},
   "outputs": [],
   "source": [
    "from sklearn.model_selection import train_test_split\n",
    "x_trainset,x_testset,y_trainset,y_testset=train_test_split(x,y,test_size=0.4,random_state=1)"
   ]
  },
  {
   "cell_type": "code",
   "execution_count": 57,
   "id": "8396cde9",
   "metadata": {},
   "outputs": [
    {
     "data": {
      "text/plain": [
       "(80, 5)"
      ]
     },
     "execution_count": 57,
     "metadata": {},
     "output_type": "execute_result"
    }
   ],
   "source": [
    "x_testset.shape"
   ]
  },
  {
   "cell_type": "code",
   "execution_count": 58,
   "id": "2acacd78",
   "metadata": {},
   "outputs": [
    {
     "data": {
      "text/plain": [
       "DecisionTreeClassifier(criterion='entropy', max_depth=4)"
      ]
     },
     "execution_count": 58,
     "metadata": {},
     "output_type": "execute_result"
    }
   ],
   "source": [
    "tree=DecisionTreeClassifier(criterion=\"entropy\",max_depth=4)\n",
    "tree"
   ]
  },
  {
   "cell_type": "code",
   "execution_count": 59,
   "id": "5966869a",
   "metadata": {},
   "outputs": [
    {
     "data": {
      "text/plain": [
       "DecisionTreeClassifier(criterion='entropy', max_depth=4)"
      ]
     },
     "execution_count": 59,
     "metadata": {},
     "output_type": "execute_result"
    }
   ],
   "source": [
    "tree.fit(x_trainset,y_trainset)"
   ]
  },
  {
   "cell_type": "code",
   "execution_count": 60,
   "id": "09ce1415",
   "metadata": {},
   "outputs": [
    {
     "data": {
      "text/plain": [
       "array(['drugX', 'drugY', 'drugX', 'drugC', 'drugY', 'drugX', 'drugX',\n",
       "       'drugY', 'drugY', 'drugY', 'drugX', 'drugC', 'drugY', 'drugY',\n",
       "       'drugA', 'drugA', 'drugX', 'drugX', 'drugB', 'drugY', 'drugX',\n",
       "       'drugX', 'drugX', 'drugY', 'drugB', 'drugX', 'drugX', 'drugY',\n",
       "       'drugC', 'drugX', 'drugC', 'drugY', 'drugY', 'drugY', 'drugA',\n",
       "       'drugY', 'drugA', 'drugY', 'drugY', 'drugY', 'drugB', 'drugY',\n",
       "       'drugY', 'drugX', 'drugB', 'drugY', 'drugX', 'drugX', 'drugY',\n",
       "       'drugA', 'drugY', 'drugY', 'drugY', 'drugY', 'drugY', 'drugY',\n",
       "       'drugX', 'drugX', 'drugX', 'drugA', 'drugX', 'drugX', 'drugA',\n",
       "       'drugY', 'drugA', 'drugX', 'drugX', 'drugX', 'drugY', 'drugA',\n",
       "       'drugB', 'drugC', 'drugY', 'drugC', 'drugY', 'drugX', 'drugY',\n",
       "       'drugX', 'drugY', 'drugY'], dtype=object)"
      ]
     },
     "execution_count": 60,
     "metadata": {},
     "output_type": "execute_result"
    }
   ],
   "source": [
    "predtree=tree.predict(x_testset)\n",
    "predtree"
   ]
  },
  {
   "cell_type": "code",
   "execution_count": 61,
   "id": "eb8865f1",
   "metadata": {},
   "outputs": [
    {
     "name": "stdout",
     "output_type": "stream",
     "text": [
      "58     drugX\n",
      "40     drugY\n",
      "34     drugX\n",
      "102    drugC\n",
      "184    drugY\n",
      "Name: Drug, dtype: object\n"
     ]
    }
   ],
   "source": [
    "print (y_testset [0:5])"
   ]
  },
  {
   "cell_type": "code",
   "execution_count": 73,
   "id": "c0788800",
   "metadata": {},
   "outputs": [
    {
     "name": "stdout",
     "output_type": "stream",
     "text": [
      "accuracy is 0.975\n"
     ]
    }
   ],
   "source": [
    "from sklearn import metrics\n",
    "print(\"accuracy is\",metrics.accuracy_score(y_testset,tree.predict(x_testset)))"
   ]
  },
  {
   "cell_type": "code",
   "execution_count": 74,
   "id": "ab989528",
   "metadata": {},
   "outputs": [
    {
     "data": {
      "text/plain": [
       "array([[60, 1, 2, 1, 10.091],\n",
       "       [73, 0, 2, 0, 19.221],\n",
       "       [53, 1, 2, 0, 14.133],\n",
       "       [28, 0, 1, 0, 13.127],\n",
       "       [18, 0, 0, 0, 37.188],\n",
       "       [23, 1, 2, 1, 14.02],\n",
       "       [36, 1, 1, 1, 11.424],\n",
       "       [61, 0, 1, 0, 18.043],\n",
       "       [45, 1, 1, 0, 17.951],\n",
       "       [51, 0, 1, 1, 23.003],\n",
       "       [45, 1, 1, 1, 10.017],\n",
       "       [23, 1, 1, 0, 7.298],\n",
       "       [34, 0, 0, 1, 19.199],\n",
       "       [50, 0, 2, 1, 17.211],\n",
       "       [50, 1, 0, 0, 7.49],\n",
       "       [32, 0, 0, 1, 10.292],\n",
       "       [34, 0, 1, 1, 12.923],\n",
       "       [46, 1, 2, 1, 7.285],\n",
       "       [55, 0, 0, 0, 10.977],\n",
       "       [34, 1, 0, 0, 18.703],\n",
       "       [67, 1, 2, 1, 10.898],\n",
       "       [69, 1, 1, 1, 11.455],\n",
       "       [50, 0, 2, 1, 12.295],\n",
       "       [56, 1, 1, 0, 15.015],\n",
       "       [74, 1, 0, 0, 9.567],\n",
       "       [43, 1, 2, 1, 12.859],\n",
       "       [39, 0, 2, 1, 9.709],\n",
       "       [39, 0, 1, 1, 22.697],\n",
       "       [72, 1, 1, 0, 6.769],\n",
       "       [49, 0, 2, 1, 9.381],\n",
       "       [68, 1, 1, 0, 10.291],\n",
       "       [38, 1, 1, 0, 18.295],\n",
       "       [46, 0, 0, 0, 34.686],\n",
       "       [25, 1, 2, 0, 19.011],\n",
       "       [48, 1, 0, 1, 10.446],\n",
       "       [56, 0, 0, 0, 25.395],\n",
       "       [42, 1, 0, 1, 12.766],\n",
       "       [41, 0, 2, 1, 22.905],\n",
       "       [18, 0, 0, 1, 24.276],\n",
       "       [39, 0, 2, 1, 17.225],\n",
       "       [72, 1, 0, 1, 9.677],\n",
       "       [42, 1, 1, 0, 20.013],\n",
       "       [64, 1, 0, 1, 20.932],\n",
       "       [50, 0, 2, 0, 12.703],\n",
       "       [65, 1, 0, 1, 11.34],\n",
       "       [32, 0, 0, 1, 25.974],\n",
       "       [20, 0, 2, 1, 9.281],\n",
       "       [15, 1, 2, 0, 9.084],\n",
       "       [57, 0, 2, 1, 25.893],\n",
       "       [53, 0, 0, 1, 12.495],\n",
       "       [20, 1, 0, 1, 35.639],\n",
       "       [36, 0, 2, 0, 16.753],\n",
       "       [61, 0, 0, 0, 25.475],\n",
       "       [24, 0, 0, 1, 18.457],\n",
       "       [65, 0, 0, 1, 31.876],\n",
       "       [67, 0, 2, 0, 15.891],\n",
       "       [59, 0, 2, 0, 13.884],\n",
       "       [22, 1, 2, 0, 11.953],\n",
       "       [40, 0, 1, 1, 11.349],\n",
       "       [51, 1, 0, 1, 11.343],\n",
       "       [67, 1, 2, 1, 9.514],\n",
       "       [17, 1, 2, 1, 10.832],\n",
       "       [19, 0, 0, 0, 13.313],\n",
       "       [50, 1, 2, 1, 15.79],\n",
       "       [43, 1, 0, 0, 13.972],\n",
       "       [22, 0, 2, 0, 8.607],\n",
       "       [35, 1, 2, 1, 7.845],\n",
       "       [37, 1, 1, 1, 8.968],\n",
       "       [23, 1, 2, 0, 31.686],\n",
       "       [29, 1, 0, 0, 12.856],\n",
       "       [68, 0, 0, 1, 10.189],\n",
       "       [47, 0, 1, 0, 10.067],\n",
       "       [36, 0, 0, 1, 15.49],\n",
       "       [59, 0, 1, 0, 10.444],\n",
       "       [58, 0, 1, 0, 26.645],\n",
       "       [65, 0, 1, 1, 13.769],\n",
       "       [43, 1, 1, 0, 15.376],\n",
       "       [40, 0, 2, 0, 10.103],\n",
       "       [42, 0, 1, 1, 29.271],\n",
       "       [28, 1, 2, 0, 27.064]], dtype=object)"
      ]
     },
     "execution_count": 74,
     "metadata": {},
     "output_type": "execute_result"
    }
   ],
   "source": []
  },
  {
   "cell_type": "code",
   "execution_count": null,
   "id": "06803ada",
   "metadata": {},
   "outputs": [],
   "source": []
  }
 ],
 "metadata": {
  "kernelspec": {
   "display_name": "Python 3",
   "language": "python",
   "name": "python3"
  },
  "language_info": {
   "codemirror_mode": {
    "name": "ipython",
    "version": 3
   },
   "file_extension": ".py",
   "mimetype": "text/x-python",
   "name": "python",
   "nbconvert_exporter": "python",
   "pygments_lexer": "ipython3",
   "version": "3.9.4"
  }
 },
 "nbformat": 4,
 "nbformat_minor": 5
}
